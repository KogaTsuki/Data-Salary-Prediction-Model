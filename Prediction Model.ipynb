{
 "cells": [
  {
   "cell_type": "markdown",
   "id": "56358706",
   "metadata": {},
   "source": [
    "# Data Salary Prediction Model"
   ]
  },
  {
   "cell_type": "markdown",
   "id": "887ec509",
   "metadata": {},
   "source": [
    "## Package Imports"
   ]
  },
  {
   "cell_type": "code",
   "execution_count": 1,
   "id": "ad0aaca3",
   "metadata": {},
   "outputs": [],
   "source": [
    "import pandas as pd\n",
    "import tensorflow_decision_forests as tfdf"
   ]
  },
  {
   "cell_type": "markdown",
   "id": "0b33932c-6048-42cf-8ad6-b1991b9dccca",
   "metadata": {},
   "source": [
    "## Prepare Dataset"
   ]
  },
  {
   "cell_type": "code",
   "execution_count": 2,
   "id": "3c230a63-bb8e-424b-8526-2e23a13198f5",
   "metadata": {},
   "outputs": [],
   "source": [
    "dataset = pd.read_csv('jobs_in_data.csv')"
   ]
  },
  {
   "cell_type": "markdown",
   "id": "939e4356-3d95-4544-b82e-4dda6372fa54",
   "metadata": {},
   "source": [
    "### Filter Fields"
   ]
  },
  {
   "cell_type": "code",
   "execution_count": 3,
   "id": "8126ffeb-ea23-4b23-98aa-68abe397c79b",
   "metadata": {},
   "outputs": [
    {
     "name": "stdout",
     "output_type": "stream",
     "text": [
      "      work_year                 job_title  salary_in_usd employee_residence  \\\n",
      "1          2023            Data Architect         186000      United States   \n",
      "2          2023            Data Architect          81800      United States   \n",
      "3          2023            Data Scientist         212000      United States   \n",
      "4          2023            Data Scientist          93300      United States   \n",
      "5          2023            Data Scientist         130000      United States   \n",
      "...         ...                       ...            ...                ...   \n",
      "9350       2021           Data Specialist         165000      United States   \n",
      "9351       2020            Data Scientist         412000      United States   \n",
      "9352       2021  Principal Data Scientist         151000      United States   \n",
      "9353       2020            Data Scientist         105000      United States   \n",
      "9354       2020     Business Data Analyst         100000      United States   \n",
      "\n",
      "     experience_level employment_type work_setting company_location  \\\n",
      "1              Senior       Full-time    In-person    United States   \n",
      "2              Senior       Full-time    In-person    United States   \n",
      "3              Senior       Full-time    In-person    United States   \n",
      "4              Senior       Full-time    In-person    United States   \n",
      "5              Senior       Full-time       Remote    United States   \n",
      "...               ...             ...          ...              ...   \n",
      "9350           Senior       Full-time       Remote    United States   \n",
      "9351           Senior       Full-time       Remote    United States   \n",
      "9352        Mid-level       Full-time       Remote    United States   \n",
      "9353      Entry-level       Full-time       Remote    United States   \n",
      "9354      Entry-level        Contract       Remote    United States   \n",
      "\n",
      "     company_size  \n",
      "1               M  \n",
      "2               M  \n",
      "3               M  \n",
      "4               M  \n",
      "5               M  \n",
      "...           ...  \n",
      "9350            L  \n",
      "9351            L  \n",
      "9352            L  \n",
      "9353            S  \n",
      "9354            L  \n",
      "\n",
      "[8086 rows x 9 columns]\n"
     ]
    }
   ],
   "source": [
    "df = dataset[dataset['employee_residence'] == 'United States'].loc[:, ~dataset.columns.isin(['salary_currency', 'salary','job_category'])]\n",
    "print(df)"
   ]
  },
  {
   "cell_type": "markdown",
   "id": "b1a36863-ccb8-4091-9049-64db4684ca4e",
   "metadata": {},
   "source": [
    "### Test the Dataset"
   ]
  },
  {
   "cell_type": "code",
   "execution_count": 4,
   "id": "de590cf9-90e2-48b6-a9f5-a21be7804dac",
   "metadata": {},
   "outputs": [
    {
     "name": "stdout",
     "output_type": "stream",
     "text": [
      "experience_level\n",
      "Entry-level    104637.16\n",
      "Executive      195731.13\n",
      "Mid-level      130431.59\n",
      "Senior         166284.88\n",
      "Name: salary_in_usd, dtype: float64\n"
     ]
    }
   ],
   "source": [
    "jobTypeMean = df.groupby(\"experience_level\")[\"salary_in_usd\"].mean().round(2)\n",
    "print(jobTypeMean)"
   ]
  },
  {
   "cell_type": "markdown",
   "id": "1b38b1ba-a85d-44da-bd52-4dfc788e75d9",
   "metadata": {},
   "source": [
    "### Split Dataset into Train and Test Dataframes"
   ]
  },
  {
   "cell_type": "code",
   "execution_count": 5,
   "id": "9bd7aeed-9ee2-4e8e-a988-977d263ab70f",
   "metadata": {},
   "outputs": [],
   "source": [
    "size = round(df.shape[0]/2)\n",
    "train_df = df.iloc[:size,:]\n",
    "test_df = df.iloc[size:,:]"
   ]
  },
  {
   "cell_type": "markdown",
   "id": "86e2c26e-4a44-4db6-9faa-1901e9fe7b64",
   "metadata": {},
   "source": [
    "### Covert to TensorFlow Datasets"
   ]
  },
  {
   "cell_type": "code",
   "execution_count": 6,
   "id": "a5fb5005-a2fe-4a7a-a907-925762fe6109",
   "metadata": {},
   "outputs": [],
   "source": [
    "label = 'salary_in_usd'\n",
    "# Will assign each label to an integer value and convert the dataframes to TensorFlow datasets\n",
    "train_ds = tfdf.keras.pd_dataframe_to_tf_dataset(train_df, label=label, task = tfdf.keras.Task.REGRESSION)\n",
    "test_ds = tfdf.keras.pd_dataframe_to_tf_dataset(test_df, label=label, task = tfdf.keras.Task.REGRESSION)"
   ]
  },
  {
   "cell_type": "markdown",
   "id": "6a963a14-1c53-434a-ae7f-2d66c9571908",
   "metadata": {},
   "source": [
    "## Train and Fit the Model"
   ]
  },
  {
   "cell_type": "markdown",
   "id": "17b1f865-13c8-4394-8bd6-f0ee8cfa9ca2",
   "metadata": {},
   "source": [
    "### Using Random Forest Regression Model"
   ]
  },
  {
   "cell_type": "code",
   "execution_count": 7,
   "id": "a0c79fb5-2dda-4e76-9f4a-e67050189025",
   "metadata": {},
   "outputs": [
    {
     "name": "stdout",
     "output_type": "stream",
     "text": [
      "Use /var/folders/3z/2gcw_n2549qdw21w2lvvh6hh0000gn/T/tmpz7usxbk7 as temporary training directory\n",
      "Reading training dataset...\n",
      "Training dataset read in 0:00:01.394581. Found 4043 examples.\n",
      "Training model...\n",
      "Model trained in 0:00:00.213397\n",
      "Compiling model...\n"
     ]
    },
    {
     "name": "stderr",
     "output_type": "stream",
     "text": [
      "[INFO 24-06-15 21:57:54.6956 EDT kernel.cc:1233] Loading model from path /var/folders/3z/2gcw_n2549qdw21w2lvvh6hh0000gn/T/tmpz7usxbk7/model/ with prefix 87818e5e2ec64d3b\n",
      "[INFO 24-06-15 21:57:54.7793 EDT decision_forest.cc:734] Model loaded with 300 root(s), 64490 node(s), and 6 input feature(s).\n",
      "[INFO 24-06-15 21:57:54.7793 EDT abstract_model.cc:1344] Engine \"RandomForestGeneric\" built\n",
      "[INFO 24-06-15 21:57:54.7793 EDT kernel.cc:1061] Use fast generic engine\n"
     ]
    },
    {
     "name": "stdout",
     "output_type": "stream",
     "text": [
      "Model compiled.\n"
     ]
    },
    {
     "data": {
      "text/plain": [
       "<tf_keras.src.callbacks.History at 0x1771aa2d0>"
      ]
     },
     "execution_count": 7,
     "metadata": {},
     "output_type": "execute_result"
    }
   ],
   "source": [
    "model = tfdf.keras.RandomForestModel(task = tfdf.keras.Task.REGRESSION)\n",
    "model.fit(train_ds)"
   ]
  },
  {
   "cell_type": "markdown",
   "id": "a66fd8c5-fd29-4ac2-a755-dbec8ebc0ab7",
   "metadata": {},
   "source": [
    "### Model Summary"
   ]
  },
  {
   "cell_type": "code",
   "execution_count": 8,
   "id": "8b5436f7-0e19-4856-8112-93d95afdc1df",
   "metadata": {},
   "outputs": [
    {
     "name": "stdout",
     "output_type": "stream",
     "text": [
      "Model: \"random_forest_model\"\n",
      "_________________________________________________________________\n",
      " Layer (type)                Output Shape              Param #   \n",
      "=================================================================\n",
      "=================================================================\n",
      "Total params: 1 (1.00 Byte)\n",
      "Trainable params: 0 (0.00 Byte)\n",
      "Non-trainable params: 1 (1.00 Byte)\n",
      "_________________________________________________________________\n",
      "Type: \"RANDOM_FOREST\"\n",
      "Task: REGRESSION\n",
      "Label: \"__LABEL\"\n",
      "\n",
      "Input Features (8):\n",
      "\tcompany_location\n",
      "\tcompany_size\n",
      "\temployee_residence\n",
      "\temployment_type\n",
      "\texperience_level\n",
      "\tjob_title\n",
      "\twork_setting\n",
      "\twork_year\n",
      "\n",
      "No weights\n",
      "\n",
      "Variable Importance: INV_MEAN_MIN_DEPTH:\n",
      "    1.        \"job_title\"  0.978026 ################\n",
      "    2. \"experience_level\"  0.318301 ###\n",
      "    3.     \"work_setting\"  0.157241 \n",
      "    4.     \"company_size\"  0.138268 \n",
      "    5.  \"employment_type\"  0.115738 \n",
      "    6.        \"work_year\"  0.115678 \n",
      "\n",
      "Variable Importance: NUM_AS_ROOT:\n",
      "    1.        \"job_title\" 294.000000 ################\n",
      "    2. \"experience_level\"  6.000000 \n",
      "\n",
      "Variable Importance: NUM_NODES:\n",
      "    1.        \"job_title\" 19589.000000 ################\n",
      "    2.     \"work_setting\" 5567.000000 ####\n",
      "    3. \"experience_level\" 4712.000000 ###\n",
      "    4.     \"company_size\" 2205.000000 #\n",
      "    5.  \"employment_type\" 14.000000 \n",
      "    6.        \"work_year\"  8.000000 \n",
      "\n",
      "Variable Importance: SUM_SCORE:\n",
      "    1.        \"job_title\" 1252312126151265.750000 ################\n",
      "    2. \"experience_level\" 259115697284660.093750 ###\n",
      "    3.     \"work_setting\" 34531844243791.867188 \n",
      "    4.     \"company_size\" 17089251412557.224609 \n",
      "    5.  \"employment_type\" 88908924380.250000 \n",
      "    6.        \"work_year\" 29654495783.781250 \n",
      "\n",
      "\n",
      "\n",
      "Out-of-bag evaluation: rmse:51242.7\n",
      "Number of trees: 300\n",
      "Total number of nodes: 64490\n",
      "\n",
      "Number of nodes by tree:\n",
      "Count: 300 Average: 214.967 StdDev: 7.2672\n",
      "Min: 195 Max: 233 Ignored: 0\n",
      "----------------------------------------------\n",
      "[ 195, 196)  1   0.33%   0.33%\n",
      "[ 196, 198)  3   1.00%   1.33% #\n",
      "[ 198, 200)  3   1.00%   2.33% #\n",
      "[ 200, 202)  7   2.33%   4.67% ##\n",
      "[ 202, 204)  5   1.67%   6.33% #\n",
      "[ 204, 206) 18   6.00%  12.33% ####\n",
      "[ 206, 208) 18   6.00%  18.33% ####\n",
      "[ 208, 210) 21   7.00%  25.33% #####\n",
      "[ 210, 212) 21   7.00%  32.33% #####\n",
      "[ 212, 214) 27   9.00%  41.33% ######\n",
      "[ 214, 216) 43  14.33%  55.67% ##########\n",
      "[ 216, 218) 27   9.00%  64.67% ######\n",
      "[ 218, 220) 28   9.33%  74.00% #######\n",
      "[ 220, 222) 30  10.00%  84.00% #######\n",
      "[ 222, 224) 20   6.67%  90.67% #####\n",
      "[ 224, 226)  8   2.67%  93.33% ##\n",
      "[ 226, 228)  7   2.33%  95.67% ##\n",
      "[ 228, 230) 11   3.67%  99.33% ###\n",
      "[ 230, 232)  1   0.33%  99.67%\n",
      "[ 232, 233]  1   0.33% 100.00%\n",
      "\n",
      "Depth by leafs:\n",
      "Count: 32395 Average: 7.65093 StdDev: 1.70518\n",
      "Min: 3 Max: 15 Ignored: 0\n",
      "----------------------------------------------\n",
      "[  3,  4)   25   0.08%   0.08%\n",
      "[  4,  5)  594   1.83%   1.91% #\n",
      "[  5,  6) 2516   7.77%   9.68% ####\n",
      "[  6,  7) 5450  16.82%  26.50% ########\n",
      "[  7,  8) 7061  21.80%  48.30% ##########\n",
      "[  8,  9) 6942  21.43%  69.73% ##########\n",
      "[  9, 10) 5176  15.98%  85.70% #######\n",
      "[ 10, 11) 2958   9.13%  94.84% ####\n",
      "[ 11, 12) 1207   3.73%  98.56% ##\n",
      "[ 12, 13)  366   1.13%  99.69% #\n",
      "[ 13, 14)   77   0.24%  99.93%\n",
      "[ 14, 15)   21   0.06%  99.99%\n",
      "[ 15, 15]    2   0.01% 100.00%\n",
      "\n",
      "Number of training obs by leaf:\n",
      "Count: 32395 Average: 37.441 StdDev: 73.6309\n",
      "Min: 5 Max: 490 Ignored: 0\n",
      "----------------------------------------------\n",
      "[   5,  29) 24010  74.12%  74.12% ##########\n",
      "[  29,  53)  3746  11.56%  85.68% ##\n",
      "[  53,  77)  1091   3.37%  89.05%\n",
      "[  77, 102)   869   2.68%  91.73%\n",
      "[ 102, 126)   492   1.52%  93.25%\n",
      "[ 126, 150)   219   0.68%  93.92%\n",
      "[ 150, 175)   408   1.26%  95.18%\n",
      "[ 175, 199)   246   0.76%  95.94%\n",
      "[ 199, 223)   141   0.44%  96.38%\n",
      "[ 223, 248)   156   0.48%  96.86%\n",
      "[ 248, 272)   105   0.32%  97.18%\n",
      "[ 272, 296)    12   0.04%  97.22%\n",
      "[ 296, 320)     1   0.00%  97.22%\n",
      "[ 320, 345)    57   0.18%  97.40%\n",
      "[ 345, 369)   134   0.41%  97.81%\n",
      "[ 369, 393)   138   0.43%  98.24%\n",
      "[ 393, 418)   181   0.56%  98.80%\n",
      "[ 418, 442)   257   0.79%  99.59%\n",
      "[ 442, 466)   115   0.35%  99.95%\n",
      "[ 466, 490]    17   0.05% 100.00%\n",
      "\n",
      "Attribute in nodes:\n",
      "\t19589 : job_title [CATEGORICAL]\n",
      "\t5567 : work_setting [CATEGORICAL]\n",
      "\t4712 : experience_level [CATEGORICAL]\n",
      "\t2205 : company_size [CATEGORICAL]\n",
      "\t14 : employment_type [CATEGORICAL]\n",
      "\t8 : work_year [NUMERICAL]\n",
      "\n",
      "Attribute in nodes with depth <= 0:\n",
      "\t294 : job_title [CATEGORICAL]\n",
      "\t6 : experience_level [CATEGORICAL]\n",
      "\n",
      "Attribute in nodes with depth <= 1:\n",
      "\t707 : job_title [CATEGORICAL]\n",
      "\t190 : experience_level [CATEGORICAL]\n",
      "\t3 : company_size [CATEGORICAL]\n",
      "\n",
      "Attribute in nodes with depth <= 2:\n",
      "\t1288 : job_title [CATEGORICAL]\n",
      "\t799 : experience_level [CATEGORICAL]\n",
      "\t7 : work_setting [CATEGORICAL]\n",
      "\t6 : company_size [CATEGORICAL]\n",
      "\n",
      "Attribute in nodes with depth <= 3:\n",
      "\t2505 : job_title [CATEGORICAL]\n",
      "\t1632 : experience_level [CATEGORICAL]\n",
      "\t236 : work_setting [CATEGORICAL]\n",
      "\t100 : company_size [CATEGORICAL]\n",
      "\t2 : employment_type [CATEGORICAL]\n",
      "\n",
      "Attribute in nodes with depth <= 5:\n",
      "\t7755 : job_title [CATEGORICAL]\n",
      "\t2877 : experience_level [CATEGORICAL]\n",
      "\t2864 : work_setting [CATEGORICAL]\n",
      "\t921 : company_size [CATEGORICAL]\n",
      "\t8 : employment_type [CATEGORICAL]\n",
      "\t2 : work_year [NUMERICAL]\n",
      "\n",
      "Condition type in nodes:\n",
      "\t23564 : ContainsBitmapCondition\n",
      "\t8523 : ContainsCondition\n",
      "\t8 : HigherCondition\n",
      "Condition type in nodes with depth <= 0:\n",
      "\t300 : ContainsBitmapCondition\n",
      "Condition type in nodes with depth <= 1:\n",
      "\t900 : ContainsBitmapCondition\n",
      "Condition type in nodes with depth <= 2:\n",
      "\t2099 : ContainsBitmapCondition\n",
      "\t1 : ContainsCondition\n",
      "Condition type in nodes with depth <= 3:\n",
      "\t4402 : ContainsBitmapCondition\n",
      "\t73 : ContainsCondition\n",
      "Condition type in nodes with depth <= 5:\n",
      "\t12947 : ContainsBitmapCondition\n",
      "\t1478 : ContainsCondition\n",
      "\t2 : HigherCondition\n",
      "Node format: NOT_SET\n",
      "\n",
      "Training OOB:\n",
      "\ttrees: 1, Out-of-bag evaluation: rmse:50975.5\n",
      "\ttrees: 11, Out-of-bag evaluation: rmse:51740\n",
      "\ttrees: 21, Out-of-bag evaluation: rmse:51512.4\n",
      "\ttrees: 31, Out-of-bag evaluation: rmse:51409.2\n",
      "\ttrees: 41, Out-of-bag evaluation: rmse:51299.9\n",
      "\ttrees: 53, Out-of-bag evaluation: rmse:51286.8\n",
      "\ttrees: 63, Out-of-bag evaluation: rmse:51318.4\n",
      "\ttrees: 73, Out-of-bag evaluation: rmse:51307.2\n",
      "\ttrees: 83, Out-of-bag evaluation: rmse:51303.4\n",
      "\ttrees: 93, Out-of-bag evaluation: rmse:51302.1\n",
      "\ttrees: 103, Out-of-bag evaluation: rmse:51291.5\n",
      "\ttrees: 113, Out-of-bag evaluation: rmse:51275\n",
      "\ttrees: 123, Out-of-bag evaluation: rmse:51269.9\n",
      "\ttrees: 134, Out-of-bag evaluation: rmse:51266.4\n",
      "\ttrees: 144, Out-of-bag evaluation: rmse:51257.6\n",
      "\ttrees: 154, Out-of-bag evaluation: rmse:51264.1\n",
      "\ttrees: 166, Out-of-bag evaluation: rmse:51269.4\n",
      "\ttrees: 176, Out-of-bag evaluation: rmse:51274.9\n",
      "\ttrees: 186, Out-of-bag evaluation: rmse:51273.1\n",
      "\ttrees: 197, Out-of-bag evaluation: rmse:51273.3\n",
      "\ttrees: 207, Out-of-bag evaluation: rmse:51273\n",
      "\ttrees: 219, Out-of-bag evaluation: rmse:51273.2\n",
      "\ttrees: 231, Out-of-bag evaluation: rmse:51264.6\n",
      "\ttrees: 241, Out-of-bag evaluation: rmse:51260.7\n",
      "\ttrees: 254, Out-of-bag evaluation: rmse:51249.7\n",
      "\ttrees: 265, Out-of-bag evaluation: rmse:51247.6\n",
      "\ttrees: 275, Out-of-bag evaluation: rmse:51241.4\n",
      "\ttrees: 286, Out-of-bag evaluation: rmse:51248.6\n",
      "\ttrees: 296, Out-of-bag evaluation: rmse:51244.5\n",
      "\ttrees: 300, Out-of-bag evaluation: rmse:51242.7\n",
      "\n"
     ]
    }
   ],
   "source": [
    "model.summary()"
   ]
  },
  {
   "cell_type": "markdown",
   "id": "d4494544-2af0-40cb-85d2-b37e6f145397",
   "metadata": {},
   "source": [
    "## Compute Model Accuracy"
   ]
  },
  {
   "cell_type": "code",
   "execution_count": 9,
   "id": "67a47b14-2f3b-4543-888e-5ce057404cb4",
   "metadata": {},
   "outputs": [
    {
     "name": "stdout",
     "output_type": "stream",
     "text": [
      "5/5 [==============================] - 2s 19ms/step - loss: 0.0000e+00 - MAPE: 27.5783\n",
      "5/5 [==============================] - 0s 18ms/step - loss: 0.0000e+00 - MAPE: 28.8172\n"
     ]
    },
    {
     "data": {
      "text/plain": [
       "{'loss': 0.0, 'MAPE': 28.81723403930664}"
      ]
     },
     "execution_count": 9,
     "metadata": {},
     "output_type": "execute_result"
    }
   ],
   "source": [
    "model.compile(metrics=['MAPE'])\n",
    "model.evaluate(train_ds, return_dict=True)\n",
    "model.evaluate(test_ds, return_dict=True)"
   ]
  },
  {
   "cell_type": "markdown",
   "id": "46f68f1c-c7ad-4c58-bfbf-0e625cba07c4",
   "metadata": {},
   "source": [
    "## Save the Model"
   ]
  },
  {
   "cell_type": "code",
   "execution_count": 10,
   "id": "02ac2596-0709-4c38-a093-944fa3980c19",
   "metadata": {},
   "outputs": [
    {
     "name": "stdout",
     "output_type": "stream",
     "text": [
      "INFO:tensorflow:Assets written to: models/assets\n"
     ]
    },
    {
     "name": "stderr",
     "output_type": "stream",
     "text": [
      "INFO:tensorflow:Assets written to: models/assets\n"
     ]
    }
   ],
   "source": [
    "model.save('models/')"
   ]
  },
  {
   "cell_type": "code",
   "execution_count": null,
   "id": "10a2e429-16d6-43e9-8532-6d11ec1cf000",
   "metadata": {},
   "outputs": [],
   "source": []
  }
 ],
 "metadata": {
  "kernelspec": {
   "display_name": "Python 3 (ipykernel)",
   "language": "python",
   "name": "python3"
  },
  "language_info": {
   "codemirror_mode": {
    "name": "ipython",
    "version": 3
   },
   "file_extension": ".py",
   "mimetype": "text/x-python",
   "name": "python",
   "nbconvert_exporter": "python",
   "pygments_lexer": "ipython3",
   "version": "3.11.5"
  }
 },
 "nbformat": 4,
 "nbformat_minor": 5
}

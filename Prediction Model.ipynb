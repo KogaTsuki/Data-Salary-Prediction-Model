{
 "cells": [
  {
   "cell_type": "markdown",
   "id": "56358706",
   "metadata": {},
   "source": [
    "# Data Salary Prediction Model"
   ]
  },
  {
   "cell_type": "markdown",
   "id": "887ec509",
   "metadata": {},
   "source": [
    "## Package Imports"
   ]
  },
  {
   "cell_type": "code",
   "execution_count": 1,
   "id": "ad0aaca3",
   "metadata": {},
   "outputs": [],
   "source": [
    "import pandas as pd\n",
    "import tensorflow_decision_forests as tfdf"
   ]
  },
  {
   "cell_type": "markdown",
   "id": "0b33932c-6048-42cf-8ad6-b1991b9dccca",
   "metadata": {},
   "source": [
    "## Prepare Dataset"
   ]
  },
  {
   "cell_type": "code",
   "execution_count": 2,
   "id": "3c230a63-bb8e-424b-8526-2e23a13198f5",
   "metadata": {},
   "outputs": [],
   "source": [
    "dataset = pd.read_csv('jobs_in_data.csv')"
   ]
  },
  {
   "cell_type": "markdown",
   "id": "939e4356-3d95-4544-b82e-4dda6372fa54",
   "metadata": {},
   "source": [
    "### Filter Fields"
   ]
  },
  {
   "cell_type": "code",
   "execution_count": 3,
   "id": "8126ffeb-ea23-4b23-98aa-68abe397c79b",
   "metadata": {},
   "outputs": [
    {
     "name": "stdout",
     "output_type": "stream",
     "text": [
      "      work_year                 job_title  salary_in_usd employee_residence  \\\n",
      "1          2023            Data Architect         186000      United States   \n",
      "2          2023            Data Architect          81800      United States   \n",
      "3          2023            Data Scientist         212000      United States   \n",
      "4          2023            Data Scientist          93300      United States   \n",
      "5          2023            Data Scientist         130000      United States   \n",
      "...         ...                       ...            ...                ...   \n",
      "9350       2021           Data Specialist         165000      United States   \n",
      "9351       2020            Data Scientist         412000      United States   \n",
      "9352       2021  Principal Data Scientist         151000      United States   \n",
      "9353       2020            Data Scientist         105000      United States   \n",
      "9354       2020     Business Data Analyst         100000      United States   \n",
      "\n",
      "     experience_level employment_type work_setting company_location  \\\n",
      "1              Senior       Full-time    In-person    United States   \n",
      "2              Senior       Full-time    In-person    United States   \n",
      "3              Senior       Full-time    In-person    United States   \n",
      "4              Senior       Full-time    In-person    United States   \n",
      "5              Senior       Full-time       Remote    United States   \n",
      "...               ...             ...          ...              ...   \n",
      "9350           Senior       Full-time       Remote    United States   \n",
      "9351           Senior       Full-time       Remote    United States   \n",
      "9352        Mid-level       Full-time       Remote    United States   \n",
      "9353      Entry-level       Full-time       Remote    United States   \n",
      "9354      Entry-level        Contract       Remote    United States   \n",
      "\n",
      "     company_size  \n",
      "1               M  \n",
      "2               M  \n",
      "3               M  \n",
      "4               M  \n",
      "5               M  \n",
      "...           ...  \n",
      "9350            L  \n",
      "9351            L  \n",
      "9352            L  \n",
      "9353            S  \n",
      "9354            L  \n",
      "\n",
      "[8086 rows x 9 columns]\n"
     ]
    }
   ],
   "source": [
    "df = dataset[dataset['employee_residence'] == 'United States'].loc[:, ~dataset.columns.isin(['salary_currency', 'salary','job_category'])]\n",
    "print(df)"
   ]
  },
  {
   "cell_type": "markdown",
   "id": "b1a36863-ccb8-4091-9049-64db4684ca4e",
   "metadata": {},
   "source": [
    "### Test the Dataset"
   ]
  },
  {
   "cell_type": "code",
   "execution_count": 4,
   "id": "de590cf9-90e2-48b6-a9f5-a21be7804dac",
   "metadata": {},
   "outputs": [
    {
     "name": "stdout",
     "output_type": "stream",
     "text": [
      "experience_level\n",
      "Entry-level    104637.16\n",
      "Executive      195731.13\n",
      "Mid-level      130431.59\n",
      "Senior         166284.88\n",
      "Name: salary_in_usd, dtype: float64\n"
     ]
    }
   ],
   "source": [
    "jobTypeMean = df.groupby(\"experience_level\")[\"salary_in_usd\"].mean().round(2)\n",
    "print(jobTypeMean)"
   ]
  },
  {
   "cell_type": "markdown",
   "id": "1b38b1ba-a85d-44da-bd52-4dfc788e75d9",
   "metadata": {},
   "source": [
    "### Split Dataset into Train and Test Dataframes"
   ]
  },
  {
   "cell_type": "code",
   "execution_count": 11,
   "id": "9bd7aeed-9ee2-4e8e-a988-977d263ab70f",
   "metadata": {},
   "outputs": [],
   "source": [
    "train_df = df.iloc[:7000,:]\n",
    "test_df = df.iloc[7000:,:]"
   ]
  },
  {
   "cell_type": "markdown",
   "id": "86e2c26e-4a44-4db6-9faa-1901e9fe7b64",
   "metadata": {},
   "source": [
    "### Covert to TensorFlow Datasets"
   ]
  },
  {
   "cell_type": "code",
   "execution_count": 12,
   "id": "a5fb5005-a2fe-4a7a-a907-925762fe6109",
   "metadata": {},
   "outputs": [],
   "source": [
    "label = 'salary_in_usd'\n",
    "# Will assign each label to an integer value and convert the dataframes to TensorFlow datasets\n",
    "train_ds = tfdf.keras.pd_dataframe_to_tf_dataset(train_df, label=label, task = tfdf.keras.Task.REGRESSION)\n",
    "test_ds = tfdf.keras.pd_dataframe_to_tf_dataset(test_df, label=label, task = tfdf.keras.Task.REGRESSION)"
   ]
  },
  {
   "cell_type": "markdown",
   "id": "6a963a14-1c53-434a-ae7f-2d66c9571908",
   "metadata": {},
   "source": [
    "## Train and Fit the Model"
   ]
  },
  {
   "cell_type": "markdown",
   "id": "17b1f865-13c8-4394-8bd6-f0ee8cfa9ca2",
   "metadata": {},
   "source": [
    "### Using Random Forest Regression Model"
   ]
  },
  {
   "cell_type": "code",
   "execution_count": 13,
   "id": "a0c79fb5-2dda-4e76-9f4a-e67050189025",
   "metadata": {},
   "outputs": [
    {
     "name": "stdout",
     "output_type": "stream",
     "text": [
      "Use /var/folders/3z/2gcw_n2549qdw21w2lvvh6hh0000gn/T/tmps81wanac as temporary training directory\n",
      "Reading training dataset...\n",
      "Training dataset read in 0:00:00.116447. Found 7000 examples.\n",
      "Training model...\n",
      "Model trained in 0:00:00.333311\n",
      "Compiling model...\n"
     ]
    },
    {
     "name": "stderr",
     "output_type": "stream",
     "text": [
      "[INFO 24-06-15 22:17:41.2859 EDT kernel.cc:1233] Loading model from path /var/folders/3z/2gcw_n2549qdw21w2lvvh6hh0000gn/T/tmps81wanac/model/ with prefix 82fa0df8168d475d\n",
      "[INFO 24-06-15 22:17:41.4122 EDT decision_forest.cc:734] Model loaded with 300 root(s), 96068 node(s), and 7 input feature(s).\n",
      "[INFO 24-06-15 22:17:41.4123 EDT abstract_model.cc:1344] Engine \"RandomForestGeneric\" built\n",
      "[INFO 24-06-15 22:17:41.4123 EDT kernel.cc:1061] Use fast generic engine\n"
     ]
    },
    {
     "name": "stdout",
     "output_type": "stream",
     "text": [
      "Model compiled.\n"
     ]
    },
    {
     "data": {
      "text/plain": [
       "<tf_keras.src.callbacks.History at 0x30930b750>"
      ]
     },
     "execution_count": 13,
     "metadata": {},
     "output_type": "execute_result"
    }
   ],
   "source": [
    "model = tfdf.keras.RandomForestModel(task = tfdf.keras.Task.REGRESSION)\n",
    "model.fit(train_ds)"
   ]
  },
  {
   "cell_type": "markdown",
   "id": "a66fd8c5-fd29-4ac2-a755-dbec8ebc0ab7",
   "metadata": {},
   "source": [
    "### Model Summary"
   ]
  },
  {
   "cell_type": "code",
   "execution_count": 14,
   "id": "8b5436f7-0e19-4856-8112-93d95afdc1df",
   "metadata": {},
   "outputs": [
    {
     "name": "stdout",
     "output_type": "stream",
     "text": [
      "Model: \"random_forest_model_1\"\n",
      "_________________________________________________________________\n",
      " Layer (type)                Output Shape              Param #   \n",
      "=================================================================\n",
      "=================================================================\n",
      "Total params: 1 (1.00 Byte)\n",
      "Trainable params: 0 (0.00 Byte)\n",
      "Non-trainable params: 1 (1.00 Byte)\n",
      "_________________________________________________________________\n",
      "Type: \"RANDOM_FOREST\"\n",
      "Task: REGRESSION\n",
      "Label: \"__LABEL\"\n",
      "\n",
      "Input Features (8):\n",
      "\tcompany_location\n",
      "\tcompany_size\n",
      "\temployee_residence\n",
      "\temployment_type\n",
      "\texperience_level\n",
      "\tjob_title\n",
      "\twork_setting\n",
      "\twork_year\n",
      "\n",
      "No weights\n",
      "\n",
      "Variable Importance: INV_MEAN_MIN_DEPTH:\n",
      "    1.        \"job_title\"  0.696659 ################\n",
      "    2. \"experience_level\"  0.415081 ########\n",
      "    3.        \"work_year\"  0.144375 #\n",
      "    4.     \"work_setting\"  0.142072 \n",
      "    5.     \"company_size\"  0.130767 \n",
      "    6.  \"employment_type\"  0.106739 \n",
      "    7. \"company_location\"  0.105498 \n",
      "\n",
      "Variable Importance: NUM_AS_ROOT:\n",
      "    1.        \"job_title\" 199.000000 ################\n",
      "    2. \"experience_level\" 79.000000 ######\n",
      "    3.        \"work_year\" 19.000000 #\n",
      "    4.     \"work_setting\"  3.000000 \n",
      "\n",
      "Variable Importance: NUM_NODES:\n",
      "    1.        \"job_title\" 27681.000000 ################\n",
      "    2.     \"work_setting\" 8564.000000 ####\n",
      "    3. \"experience_level\" 4267.000000 ##\n",
      "    4.        \"work_year\" 4081.000000 ##\n",
      "    5.     \"company_size\" 3225.000000 #\n",
      "    6.  \"employment_type\" 58.000000 \n",
      "    7. \"company_location\"  8.000000 \n",
      "\n",
      "Variable Importance: SUM_SCORE:\n",
      "    1.        \"job_title\" 1851360681100662.500000 ################\n",
      "    2. \"experience_level\" 553650162463067.000000 ####\n",
      "    3.     \"work_setting\" 74272457958261.906250 \n",
      "    4.        \"work_year\" 35828135739329.343750 \n",
      "    5.     \"company_size\" 27512129005821.421875 \n",
      "    6.  \"employment_type\" 1880381173230.262207 \n",
      "    7. \"company_location\" 44828280710.000000 \n",
      "\n",
      "\n",
      "\n",
      "Out-of-bag evaluation: rmse:50384\n",
      "Number of trees: 300\n",
      "Total number of nodes: 96068\n",
      "\n",
      "Number of nodes by tree:\n",
      "Count: 300 Average: 320.227 StdDev: 8.86427\n",
      "Min: 291 Max: 341 Ignored: 0\n",
      "----------------------------------------------\n",
      "[ 291, 293)  1   0.33%   0.33%\n",
      "[ 293, 296)  1   0.33%   0.67%\n",
      "[ 296, 298)  1   0.33%   1.00%\n",
      "[ 298, 301)  2   0.67%   1.67%\n",
      "[ 301, 303)  6   2.00%   3.67% #\n",
      "[ 303, 306)  6   2.00%   5.67% #\n",
      "[ 306, 308)  7   2.33%   8.00% #\n",
      "[ 308, 311) 11   3.67%  11.67% ##\n",
      "[ 311, 313) 19   6.33%  18.00% ####\n",
      "[ 313, 316) 34  11.33%  29.33% ######\n",
      "[ 316, 319) 30  10.00%  39.33% ######\n",
      "[ 319, 321) 28   9.33%  48.67% #####\n",
      "[ 321, 324) 53  17.67%  66.33% ##########\n",
      "[ 324, 326) 19   6.33%  72.67% ####\n",
      "[ 326, 329) 21   7.00%  79.67% ####\n",
      "[ 329, 331) 19   6.33%  86.00% ####\n",
      "[ 331, 334) 25   8.33%  94.33% #####\n",
      "[ 334, 336)  6   2.00%  96.33% #\n",
      "[ 336, 339)  8   2.67%  99.00% ##\n",
      "[ 339, 341]  3   1.00% 100.00% #\n",
      "\n",
      "Depth by leafs:\n",
      "Count: 48184 Average: 8.48767 StdDev: 1.92292\n",
      "Min: 2 Max: 15 Ignored: 0\n",
      "----------------------------------------------\n",
      "[  2,  3)    4   0.01%   0.01%\n",
      "[  3,  4)   53   0.11%   0.12%\n",
      "[  4,  5)  514   1.07%   1.19% #\n",
      "[  5,  6) 1786   3.71%   4.89% ##\n",
      "[  6,  7) 4789   9.94%  14.83% #####\n",
      "[  7,  8) 8442  17.52%  32.35% #########\n",
      "[  8,  9) 9532  19.78%  52.13% ##########\n",
      "[  9, 10) 8641  17.93%  70.07% #########\n",
      "[ 10, 11) 6929  14.38%  84.45% #######\n",
      "[ 11, 12) 4402   9.14%  93.58% #####\n",
      "[ 12, 13) 2167   4.50%  98.08% ##\n",
      "[ 13, 14)  720   1.49%  99.57% #\n",
      "[ 14, 15)  187   0.39%  99.96%\n",
      "[ 15, 15]   18   0.04% 100.00%\n",
      "\n",
      "Number of training obs by leaf:\n",
      "Count: 48184 Average: 43.5829 StdDev: 104.033\n",
      "Min: 5 Max: 813 Ignored: 0\n",
      "----------------------------------------------\n",
      "[   5,  45) 39598  82.18%  82.18% ##########\n",
      "[  45,  85)  4268   8.86%  91.04% #\n",
      "[  85, 126)   721   1.50%  92.53%\n",
      "[ 126, 166)  1124   2.33%  94.87%\n",
      "[ 166, 207)   256   0.53%  95.40%\n",
      "[ 207, 247)   117   0.24%  95.64%\n",
      "[ 247, 288)   101   0.21%  95.85%\n",
      "[ 288, 328)   365   0.76%  96.61%\n",
      "[ 328, 369)   400   0.83%  97.44%\n",
      "[ 369, 409)    60   0.12%  97.56%\n",
      "[ 409, 449)   186   0.39%  97.95%\n",
      "[ 449, 490)    86   0.18%  98.13%\n",
      "[ 490, 530)   121   0.25%  98.38%\n",
      "[ 530, 571)   163   0.34%  98.72%\n",
      "[ 571, 611)    17   0.04%  98.75%\n",
      "[ 611, 652)    48   0.10%  98.85%\n",
      "[ 652, 692)   182   0.38%  99.23%\n",
      "[ 692, 733)   196   0.41%  99.64%\n",
      "[ 733, 773)   138   0.29%  99.92%\n",
      "[ 773, 813]    37   0.08% 100.00%\n",
      "\n",
      "Attribute in nodes:\n",
      "\t27681 : job_title [CATEGORICAL]\n",
      "\t8564 : work_setting [CATEGORICAL]\n",
      "\t4267 : experience_level [CATEGORICAL]\n",
      "\t4081 : work_year [NUMERICAL]\n",
      "\t3225 : company_size [CATEGORICAL]\n",
      "\t58 : employment_type [CATEGORICAL]\n",
      "\t8 : company_location [CATEGORICAL]\n",
      "\n",
      "Attribute in nodes with depth <= 0:\n",
      "\t199 : job_title [CATEGORICAL]\n",
      "\t79 : experience_level [CATEGORICAL]\n",
      "\t19 : work_year [NUMERICAL]\n",
      "\t3 : work_setting [CATEGORICAL]\n",
      "\n",
      "Attribute in nodes with depth <= 1:\n",
      "\t540 : job_title [CATEGORICAL]\n",
      "\t318 : experience_level [CATEGORICAL]\n",
      "\t27 : work_year [NUMERICAL]\n",
      "\t12 : work_setting [CATEGORICAL]\n",
      "\t3 : company_size [CATEGORICAL]\n",
      "\n",
      "Attribute in nodes with depth <= 2:\n",
      "\t1141 : job_title [CATEGORICAL]\n",
      "\t800 : experience_level [CATEGORICAL]\n",
      "\t57 : company_size [CATEGORICAL]\n",
      "\t51 : work_year [NUMERICAL]\n",
      "\t42 : work_setting [CATEGORICAL]\n",
      "\t4 : employment_type [CATEGORICAL]\n",
      "\t1 : company_location [CATEGORICAL]\n",
      "\n",
      "Attribute in nodes with depth <= 3:\n",
      "\t2403 : job_title [CATEGORICAL]\n",
      "\t1461 : experience_level [CATEGORICAL]\n",
      "\t215 : work_setting [CATEGORICAL]\n",
      "\t180 : company_size [CATEGORICAL]\n",
      "\t146 : work_year [NUMERICAL]\n",
      "\t28 : employment_type [CATEGORICAL]\n",
      "\t2 : company_location [CATEGORICAL]\n",
      "\n",
      "Attribute in nodes with depth <= 5:\n",
      "\t7715 : job_title [CATEGORICAL]\n",
      "\t2707 : experience_level [CATEGORICAL]\n",
      "\t2376 : work_setting [CATEGORICAL]\n",
      "\t1316 : work_year [NUMERICAL]\n",
      "\t982 : company_size [CATEGORICAL]\n",
      "\t38 : employment_type [CATEGORICAL]\n",
      "\t7 : company_location [CATEGORICAL]\n",
      "\n",
      "Condition type in nodes:\n",
      "\t32275 : ContainsBitmapCondition\n",
      "\t11528 : ContainsCondition\n",
      "\t4081 : HigherCondition\n",
      "Condition type in nodes with depth <= 0:\n",
      "\t281 : ContainsBitmapCondition\n",
      "\t19 : HigherCondition\n",
      "Condition type in nodes with depth <= 1:\n",
      "\t873 : ContainsBitmapCondition\n",
      "\t27 : HigherCondition\n",
      "Condition type in nodes with depth <= 2:\n",
      "\t2043 : ContainsBitmapCondition\n",
      "\t51 : HigherCondition\n",
      "\t2 : ContainsCondition\n",
      "Condition type in nodes with depth <= 3:\n",
      "\t4227 : ContainsBitmapCondition\n",
      "\t146 : HigherCondition\n",
      "\t62 : ContainsCondition\n",
      "Condition type in nodes with depth <= 5:\n",
      "\t12662 : ContainsBitmapCondition\n",
      "\t1316 : HigherCondition\n",
      "\t1163 : ContainsCondition\n",
      "Node format: NOT_SET\n",
      "\n",
      "Training OOB:\n",
      "\ttrees: 1, Out-of-bag evaluation: rmse:51000.4\n",
      "\ttrees: 11, Out-of-bag evaluation: rmse:50606.8\n",
      "\ttrees: 21, Out-of-bag evaluation: rmse:50477.7\n",
      "\ttrees: 31, Out-of-bag evaluation: rmse:50443.4\n",
      "\ttrees: 41, Out-of-bag evaluation: rmse:50411.9\n",
      "\ttrees: 51, Out-of-bag evaluation: rmse:50411.1\n",
      "\ttrees: 61, Out-of-bag evaluation: rmse:50408.1\n",
      "\ttrees: 71, Out-of-bag evaluation: rmse:50400.7\n",
      "\ttrees: 81, Out-of-bag evaluation: rmse:50401.9\n",
      "\ttrees: 91, Out-of-bag evaluation: rmse:50390.8\n",
      "\ttrees: 101, Out-of-bag evaluation: rmse:50372.4\n",
      "\ttrees: 111, Out-of-bag evaluation: rmse:50371.9\n",
      "\ttrees: 121, Out-of-bag evaluation: rmse:50367.1\n",
      "\ttrees: 131, Out-of-bag evaluation: rmse:50361.8\n",
      "\ttrees: 141, Out-of-bag evaluation: rmse:50364\n",
      "\ttrees: 151, Out-of-bag evaluation: rmse:50366.8\n",
      "\ttrees: 161, Out-of-bag evaluation: rmse:50373.5\n",
      "\ttrees: 171, Out-of-bag evaluation: rmse:50381.6\n",
      "\ttrees: 181, Out-of-bag evaluation: rmse:50378.2\n",
      "\ttrees: 191, Out-of-bag evaluation: rmse:50379.1\n",
      "\ttrees: 201, Out-of-bag evaluation: rmse:50384.6\n",
      "\ttrees: 211, Out-of-bag evaluation: rmse:50384\n",
      "\ttrees: 221, Out-of-bag evaluation: rmse:50383.5\n",
      "\ttrees: 231, Out-of-bag evaluation: rmse:50382.4\n",
      "\ttrees: 241, Out-of-bag evaluation: rmse:50380.3\n",
      "\ttrees: 251, Out-of-bag evaluation: rmse:50380.8\n",
      "\ttrees: 261, Out-of-bag evaluation: rmse:50380.8\n",
      "\ttrees: 271, Out-of-bag evaluation: rmse:50382.1\n",
      "\ttrees: 281, Out-of-bag evaluation: rmse:50384.1\n",
      "\ttrees: 292, Out-of-bag evaluation: rmse:50384.7\n",
      "\ttrees: 300, Out-of-bag evaluation: rmse:50384\n",
      "\n"
     ]
    }
   ],
   "source": [
    "model.summary()"
   ]
  },
  {
   "cell_type": "markdown",
   "id": "d4494544-2af0-40cb-85d2-b37e6f145397",
   "metadata": {},
   "source": [
    "## Compute Model Accuracy"
   ]
  },
  {
   "cell_type": "code",
   "execution_count": 15,
   "id": "67a47b14-2f3b-4543-888e-5ce057404cb4",
   "metadata": {},
   "outputs": [
    {
     "name": "stdout",
     "output_type": "stream",
     "text": [
      "7/7 [==============================] - 0s 31ms/step - loss: 0.0000e+00 - MAPE: 26.9925\n",
      "2/2 [==============================] - 0s 4ms/step - loss: 0.0000e+00 - MAPE: 28.9744\n"
     ]
    },
    {
     "data": {
      "text/plain": [
       "{'loss': 0.0, 'MAPE': 28.974369049072266}"
      ]
     },
     "execution_count": 15,
     "metadata": {},
     "output_type": "execute_result"
    }
   ],
   "source": [
    "model.compile(metrics=['MAPE'])\n",
    "model.evaluate(train_ds, return_dict=True)\n",
    "model.evaluate(test_ds, return_dict=True)"
   ]
  },
  {
   "cell_type": "markdown",
   "id": "46f68f1c-c7ad-4c58-bfbf-0e625cba07c4",
   "metadata": {},
   "source": [
    "## Save the Model"
   ]
  },
  {
   "cell_type": "code",
   "execution_count": 16,
   "id": "02ac2596-0709-4c38-a093-944fa3980c19",
   "metadata": {},
   "outputs": [
    {
     "name": "stdout",
     "output_type": "stream",
     "text": [
      "INFO:tensorflow:Assets written to: models/assets\n"
     ]
    },
    {
     "name": "stderr",
     "output_type": "stream",
     "text": [
      "INFO:tensorflow:Assets written to: models/assets\n"
     ]
    }
   ],
   "source": [
    "model.save('models/')"
   ]
  }
 ],
 "metadata": {
  "kernelspec": {
   "display_name": "Python 3 (ipykernel)",
   "language": "python",
   "name": "python3"
  },
  "language_info": {
   "codemirror_mode": {
    "name": "ipython",
    "version": 3
   },
   "file_extension": ".py",
   "mimetype": "text/x-python",
   "name": "python",
   "nbconvert_exporter": "python",
   "pygments_lexer": "ipython3",
   "version": "3.11.5"
  }
 },
 "nbformat": 4,
 "nbformat_minor": 5
}
